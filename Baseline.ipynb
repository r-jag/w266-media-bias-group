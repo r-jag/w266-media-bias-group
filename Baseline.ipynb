{
  "cells": [
    {
      "cell_type": "code",
      "execution_count": 1,
      "metadata": {
        "colab": {
          "base_uri": "https://localhost:8080/"
        },
        "id": "gvvNRi7JuDVR",
        "outputId": "8f3cfb9f-1e54-43e5-bbb1-45969144c09a"
      },
      "outputs": [
        {
          "output_type": "stream",
          "name": "stdout",
          "text": [
            "Mounted at /content/drive\n",
            "Files in directory:\n",
            "['final_labels_MBIC.csv', 'final_labels_SG1.csv', 'final_labels_SG2.csv', 'final_labels_MBIC.gsheet']\n"
          ]
        }
      ],
      "source": [
        "from google.colab import drive\n",
        "drive.mount('/content/drive')\n",
        "import os\n",
        "import pandas as pd\n",
        "import numpy as np\n",
        "from sklearn.feature_extraction.text import TfidfVectorizer\n",
        "from sklearn.model_selection import train_test_split\n",
        "from sklearn.metrics import classification_report, accuracy_score, confusion_matrix, ConfusionMatrixDisplay\n",
        "import xgboost as xgb\n",
        "\n",
        "\n",
        "folder_path = '/content/drive/MyDrive/266 Final Project/David/Data 266'\n",
        "files = os.listdir(folder_path)\n",
        "print(\"Files in directory:\")\n",
        "print(files)\n"
      ]
    },
    {
      "cell_type": "markdown",
      "metadata": {
        "id": "by1ixIEayuVR"
      },
      "source": [
        "##XGBoost Baseline"
      ]
    },
    {
      "cell_type": "code",
      "execution_count": 3,
      "metadata": {
        "id": "ZjQ4LRhNzIjf"
      },
      "outputs": [],
      "source": [
        "#Load\n",
        "file_path = '/content/drive/MyDrive/266 Final Project/David/Data 266/final_labels_SG2.csv'\n",
        "data = pd.read_csv(file_path, sep=';', engine='python')"
      ]
    },
    {
      "cell_type": "code",
      "execution_count": null,
      "metadata": {
        "colab": {
          "base_uri": "https://localhost:8080/"
        },
        "id": "othTlVWdyfvS",
        "outputId": "d14b7c1a-46ee-4036-f4d6-82798b7f9b85"
      },
      "outputs": [
        {
          "name": "stdout",
          "output_type": "stream",
          "text": [
            "                                                text  \\\n",
            "0  orange is the new black star yael stone is ren...   \n",
            "1  we have one beautiful law trump recently said ...   \n",
            "2  immigrants as criminals and eugenics all of wh...   \n",
            "3  we sounded the alarm in the early months of tr...   \n",
            "4  black lives matter is essentially a nonfalsifi...   \n",
            "\n",
            "                                           news_link     outlet  \\\n",
            "0  https://www.foxnews.com/entertainment/australi...   Fox News   \n",
            "1  https://www.alternet.org/2020/06/law-and-order...   Alternet   \n",
            "2  https://www.nbcnews.com/news/latino/after-step...      MSNBC   \n",
            "3  https://www.alternet.org/2019/07/fox-news-has-...   Alternet   \n",
            "4  http://feedproxy.google.com/~r/breitbart/~3/-v...  Breitbart   \n",
            "\n",
            "               topic   type  label_bias  \\\n",
            "0        environment  right  Non-biased   \n",
            "1        gun control   left      Biased   \n",
            "2  white-nationalism   left      Biased   \n",
            "3  white-nationalism   left      Biased   \n",
            "4  marriage-equality    NaN      Biased   \n",
            "\n",
            "                           label_opinion                        biased_words  \\\n",
            "0                       Entirely factual                                  []   \n",
            "1  Somewhat factual but also opinionated   ['bizarre', 'characteristically']   \n",
            "2             Expresses writer’s opinion  ['criminals', 'fringe', 'extreme']   \n",
            "3  Somewhat factual but also opinionated                                  []   \n",
            "4             Expresses writer’s opinion                            ['cult']   \n",
            "\n",
            "   label_bias_encoded  \n",
            "0                 0.0  \n",
            "1                 1.0  \n",
            "2                 1.0  \n",
            "3                 1.0  \n",
            "4                 1.0  \n"
          ]
        }
      ],
      "source": [
        "#Preprocess\n",
        "data['text'] = data['text'].str.lower()  # Convert to lowercase\n",
        "data['text'] = data['text'].str.replace('[^a-zA-Z ]', '', regex=True)  # Remove special characters\n",
        "\n",
        "#label_bias mapping\n",
        "label_mapping = {'Non-biased': 0, 'Biased': 1}  # Example mapping\n",
        "data['label_bias_encoded'] = data['label_bias'].map(label_mapping)\n",
        "\n",
        "#filtering out null rows\n",
        "data = data.dropna(subset=['text', 'label_bias_encoded'])\n",
        "\n",
        "print(data.head())\n"
      ]
    },
    {
      "cell_type": "code",
      "execution_count": null,
      "metadata": {
        "colab": {
          "base_uri": "https://localhost:8080/"
        },
        "id": "xOG937vcyhMg",
        "outputId": "89f5ce21-f406-4fe7-d903-27d126bd5c8d"
      },
      "outputs": [
        {
          "name": "stdout",
          "output_type": "stream",
          "text": [
            "Train size: (2938, 5000), Test size: (735, 5000)\n"
          ]
        }
      ],
      "source": [
        "#Vectorizing TF-IDF\n",
        "vectorizer = TfidfVectorizer(max_features=5000, ngram_range=(1, 2))  # Unigrams and bigrams\n",
        "X = vectorizer.fit_transform(data['text']).toarray()\n",
        "\n",
        "#Labels\n",
        "y = data['label_bias_encoded']\n",
        "\n",
        "#train/test split\n",
        "X_train, X_test, y_train, y_test = train_test_split(X, y, test_size=0.2, random_state=42)\n",
        "\n",
        "print(f\"Train size: {X_train.shape}, Test size: {X_test.shape}\")\n"
      ]
    },
    {
      "cell_type": "code",
      "execution_count": null,
      "metadata": {
        "id": "h6BZjMhZyhQ9"
      },
      "outputs": [],
      "source": [
        "#Converting data to DMatrix format (optimized for XGBoost)\n",
        "dtrain = xgb.DMatrix(X_train, label=y_train)\n",
        "dtest = xgb.DMatrix(X_test, label=y_test)\n",
        "\n",
        "#parameters for XGBoost\n",
        "params = {\n",
        "    'objective': 'multi:softmax',  #Softmax for multi-class classification\n",
        "    'num_class': len(np.unique(y)),  #num_classes\n",
        "    'eval_metric': 'mlogloss',      #log loss\n",
        "    'max_depth': 6,                 #tree depth max\n",
        "    'eta': 0.3,                     #LR\n",
        "    'nthread': 4,                   #Threads\n",
        "    'seed': 42                      #Random seed\n",
        "}\n",
        "\n",
        "#Train\n",
        "num_round = 100  #boosting rounds\n",
        "bst = xgb.train(params, dtrain, num_round)\n"
      ]
    },
    {
      "cell_type": "code",
      "execution_count": null,
      "metadata": {
        "colab": {
          "base_uri": "https://localhost:8080/",
          "height": 675
        },
        "id": "TZSdCNYtyhTU",
        "outputId": "ecf1a480-b64c-46fb-b054-0892610baf9a"
      },
      "outputs": [
        {
          "name": "stdout",
          "output_type": "stream",
          "text": [
            "Accuracy: 0.7210884353741497\n",
            "\n",
            "Classification Report:\n",
            "              precision    recall  f1-score   support\n",
            "\n",
            "         0.0       0.74      0.69      0.72       376\n",
            "         1.0       0.70      0.75      0.72       359\n",
            "\n",
            "    accuracy                           0.72       735\n",
            "   macro avg       0.72      0.72      0.72       735\n",
            "weighted avg       0.72      0.72      0.72       735\n",
            "\n"
          ]
        },
        {
          "data": {
            "text/plain": [
              "<sklearn.metrics._plot.confusion_matrix.ConfusionMatrixDisplay at 0x7f36c0b8a920>"
            ]
          },
          "execution_count": 66,
          "metadata": {},
          "output_type": "execute_result"
        },
        {
          "data": {
            "image/png": "[encoded data removed]",
            "text/plain": [
              "<Figure size 640x480 with 2 Axes>"
            ]
          },
          "metadata": {},
          "output_type": "display_data"
        }
      ],
      "source": [
        "#prediction\n",
        "y_pred = bst.predict(dtest).astype(int)\n",
        "\n",
        "#accuracy\n",
        "accuracy = accuracy_score(y_test, y_pred)\n",
        "print(f\"Accuracy: {accuracy}\")\n",
        "\n",
        "#classification report\n",
        "print(\"\\nClassification Report:\")\n",
        "print(classification_report(y_test, y_pred))\n",
        "\n",
        "#Plot confusion matrix\n",
        "cm = confusion_matrix(y_test, y_pred)\n",
        "disp = ConfusionMatrixDisplay(confusion_matrix=cm, display_labels=['Non-biased', 'Biased'])\n",
        "disp.plot(cmap='Blues')\n"
      ]
    },
    {
      "cell_type": "code",
      "execution_count": null,
      "metadata": {
        "colab": {
          "background_save": true,
          "base_uri": "https://localhost:8080/"
        },
        "id": "fApcWRV_yhVr",
        "outputId": "bae85cd7-c3e0-473c-e0aa-36091397cfd4"
      },
      "outputs": [
        {
          "name": "stdout",
          "output_type": "stream",
          "text": [
            "Fitting 3 folds for each of 243 candidates, totalling 729 fits\n",
            "Best parameters: {'colsample_bytree': 0.7, 'learning_rate': 0.3, 'max_depth': 3, 'n_estimators': 200, 'subsample': 0.8}\n",
            "\n",
            "Accuracy: 0.7129251700680272\n",
            "\n",
            "Classification Report:\n",
            "              precision    recall  f1-score   support\n",
            "\n",
            "         0.0       0.74      0.68      0.71       376\n",
            "         1.0       0.69      0.75      0.72       359\n",
            "\n",
            "    accuracy                           0.71       735\n",
            "   macro avg       0.71      0.71      0.71       735\n",
            "weighted avg       0.72      0.71      0.71       735\n",
            "\n"
          ]
        }
      ],
      "source": [
        "from sklearn.model_selection import GridSearchCV\n",
        "\n",
        "#parameter grid\n",
        "param_grid = {\n",
        "    'max_depth': [3, 6, 9],\n",
        "    'learning_rate': [0.01, 0.1, 0.3],\n",
        "    'n_estimators': [50, 100, 200],\n",
        "    'subsample': [0.7, 0.8, 1.0],\n",
        "    'colsample_bytree': [0.7, 0.8, 1.0]\n",
        "}\n",
        "\n",
        "#initializing XGBoost model\n",
        "xgb_clf = xgb.XGBClassifier(objective='multi:softmax', num_class=len(np.unique(y)), random_state=42)\n",
        "\n",
        "#grid search\n",
        "grid_search = GridSearchCV(estimator=xgb_clf, param_grid=param_grid, scoring='accuracy', cv=3, verbose=1)\n",
        "grid_search.fit(X_train, y_train)\n",
        "\n",
        "#optimal params\n",
        "print(\"Best parameters:\", grid_search.best_params_)\n",
        "\n",
        "#training best model\n",
        "best_model = grid_search.best_estimator_\n",
        "best_model.fit(X_train, y_train)\n",
        "\n",
        "#results\n",
        "y_pred = best_model.predict(X_test)\n",
        "print(\"\\nAccuracy:\", accuracy_score(y_test, y_pred))\n",
        "print(\"\\nClassification Report:\")\n",
        "print(classification_report(y_test, y_pred))\n"
      ]
    },
    {
      "cell_type": "markdown",
      "metadata": {
        "id": "gNGAaqJT3P-2"
      },
      "source": [
        "# Log Regression"
      ]
    },
    {
      "cell_type": "code",
      "execution_count": null,
      "metadata": {
        "colab": {
          "base_uri": "https://localhost:8080/"
        },
        "id": "kEhRzAaCVJFL",
        "outputId": "fef47511-aad9-4004-ec4e-15b0a8a7ceef"
      },
      "outputs": [
        {
          "name": "stdout",
          "output_type": "stream",
          "text": [
            "File loaded successfully!\n",
            "                                                text  \\\n",
            "0  \"\"\"Orange Is the New Black\"\" star Yael Stone i...   \n",
            "1  \"\"\"We have one beautiful law,\"\" Trump recently...   \n",
            "2  ...immigrants as criminals and eugenics, all o...   \n",
            "3  ...we sounded the alarm in the early months of...   \n",
            "4  [Black Lives Matter] is essentially a non-fals...   \n",
            "\n",
            "                                           news_link     outlet  \\\n",
            "0  https://www.foxnews.com/entertainment/australi...   Fox News   \n",
            "1  https://www.alternet.org/2020/06/law-and-order...   Alternet   \n",
            "2  https://www.nbcnews.com/news/latino/after-step...      MSNBC   \n",
            "3  https://www.alternet.org/2019/07/fox-news-has-...   Alternet   \n",
            "4  http://feedproxy.google.com/~r/breitbart/~3/-v...  Breitbart   \n",
            "\n",
            "               topic   type  label_bias  \\\n",
            "0        environment  right  Non-biased   \n",
            "1        gun control   left      Biased   \n",
            "2  white-nationalism   left      Biased   \n",
            "3  white-nationalism   left      Biased   \n",
            "4  marriage-equality    NaN      Biased   \n",
            "\n",
            "                           label_opinion                        biased_words  \n",
            "0                       Entirely factual                                  []  \n",
            "1  Somewhat factual but also opinionated   ['bizarre', 'characteristically']  \n",
            "2             Expresses writer’s opinion  ['criminals', 'fringe', 'extreme']  \n",
            "3  Somewhat factual but also opinionated                                  []  \n",
            "4             Expresses writer’s opinion                            ['cult']  \n"
          ]
        }
      ],
      "source": [
        "import pandas as pd\n",
        "\n",
        "file_path = '/content/drive/MyDrive/266 Final Project/David/Data 266/final_labels_SG2.csv'\n",
        "\n",
        "try:\n",
        "    data = pd.read_csv(\n",
        "        file_path,\n",
        "        sep=';',\n",
        "        quoting=3,\n",
        "        engine='python',\n",
        "        on_bad_lines='skip'\n",
        "    )\n",
        "    print(\"File loaded successfully!\")\n",
        "    print(data.head())\n",
        "except pd.errors.ParserError as e:\n",
        "    print(f\"ParserError: {e}\")\n",
        "except Exception as e:\n",
        "    print(f\"Error: {e}\")\n"
      ]
    },
    {
      "cell_type": "code",
      "execution_count": null,
      "metadata": {
        "colab": {
          "base_uri": "https://localhost:8080/"
        },
        "id": "j7szoQMdtLY6",
        "outputId": "eebf6af4-40a9-4af1-b2b7-9edef98024e0"
      },
      "outputs": [
        {
          "name": "stdout",
          "output_type": "stream",
          "text": [
            "text               0\n",
            "news_link         35\n",
            "outlet             3\n",
            "topic              3\n",
            "type             997\n",
            "label_bias         3\n",
            "label_opinion      3\n",
            "biased_words       3\n",
            "dtype: int64\n",
            "label_bias unique values: ['Non-biased' 'Biased' 'No agreement' None]\n",
            "label_opinion unique values: ['Entirely factual' 'Somewhat factual but also opinionated'\n",
            " 'Expresses writer’s opinion' 'No agreement' None]\n",
            "type unique values: ['right' 'left' nan 'center' None]\n"
          ]
        }
      ],
      "source": [
        "#check for missing values\n",
        "print(data.isnull().sum())\n",
        "\n",
        "#summary unique values in categorical columns\n",
        "for col in ['label_bias', 'label_opinion', 'type']:\n",
        "    print(f\"{col} unique values: {data[col].unique()}\")\n"
      ]
    },
    {
      "cell_type": "code",
      "execution_count": null,
      "metadata": {
        "colab": {
          "base_uri": "https://localhost:8080/"
        },
        "id": "YET3a29wuN0I",
        "outputId": "b614605e-3246-471f-f876-ff022bc6de77"
      },
      "outputs": [
        {
          "name": "stdout",
          "output_type": "stream",
          "text": [
            "        label_bias  label_bias_encoded\n",
            "0       Non-biased                   2\n",
            "1           Biased                   0\n",
            "2125  No agreement                   1\n",
            "2216          None                   3\n"
          ]
        }
      ],
      "source": [
        "from sklearn.preprocessing import LabelEncoder\n",
        "\n",
        "#encode 'label_bias' (target variable for classification)\n",
        "data['label_bias_encoded'] = LabelEncoder().fit_transform(data['label_bias'])\n",
        "\n",
        "#check encoded labels\n",
        "print(data[['label_bias', 'label_bias_encoded']].drop_duplicates())\n"
      ]
    },
    {
      "cell_type": "code",
      "execution_count": null,
      "metadata": {
        "colab": {
          "base_uri": "https://localhost:8080/"
        },
        "id": "fJD4odQ-wecY",
        "outputId": "45e0a87b-8421-4901-e322-84533e23acdc"
      },
      "outputs": [
        {
          "name": "stdout",
          "output_type": "stream",
          "text": [
            "0    orange new black star yael stone renouncing u ...\n",
            "1    one beautiful law trump recently said characte...\n",
            "2    immigrants criminals eugenics considered fring...\n",
            "3    sounded alarm early months trump presidency pr...\n",
            "4    black lives matter essentially non falsifiable...\n",
            "Name: cleaned_text, dtype: object\n"
          ]
        },
        {
          "name": "stderr",
          "output_type": "stream",
          "text": [
            "[nltk_data] Downloading package stopwords to /root/nltk_data...\n",
            "[nltk_data]   Package stopwords is already up-to-date!\n"
          ]
        }
      ],
      "source": [
        "import re\n",
        "import nltk\n",
        "from nltk.corpus import stopwords\n",
        "from sklearn.feature_extraction.text import TfidfVectorizer\n",
        "\n",
        "nltk.download('stopwords')\n",
        "stop_words = set(stopwords.words('english'))\n",
        "\n",
        "#Preprocessing\n",
        "def preprocess_text(text):\n",
        "    text = re.sub(r'\\W', ' ', str(text))  #remove special characters\n",
        "    text = text.lower()  #convert to lowercase\n",
        "    text = re.sub(r'\\s+', ' ', text)  #remove extra spaces\n",
        "    text = ' '.join([word for word in text.split() if word not in stop_words])  #remove stopwords\n",
        "    return text\n",
        "\n",
        "data['cleaned_text'] = data['text'].apply(preprocess_text)\n",
        "\n",
        "#check cleaned text\n",
        "print(data['cleaned_text'].head())\n"
      ]
    },
    {
      "cell_type": "code",
      "execution_count": null,
      "metadata": {
        "colab": {
          "base_uri": "https://localhost:8080/"
        },
        "id": "m0abivzNwjoC",
        "outputId": "2d0edb78-1e9d-49c8-fcbc-7e5e501292ba"
      },
      "outputs": [
        {
          "name": "stdout",
          "output_type": "stream",
          "text": [
            "   000   10  100   11   12   13   14   15  150   16  ...  yorkers  young  \\\n",
            "0  0.0  0.0  0.0  0.0  0.0  0.0  0.0  0.0  0.0  0.0  ...      0.0    0.0   \n",
            "1  0.0  0.0  0.0  0.0  0.0  0.0  0.0  0.0  0.0  0.0  ...      0.0    0.0   \n",
            "2  0.0  0.0  0.0  0.0  0.0  0.0  0.0  0.0  0.0  0.0  ...      0.0    0.0   \n",
            "3  0.0  0.0  0.0  0.0  0.0  0.0  0.0  0.0  0.0  0.0  ...      0.0    0.0   \n",
            "4  0.0  0.0  0.0  0.0  0.0  0.0  0.0  0.0  0.0  0.0  ...      0.0    0.0   \n",
            "\n",
            "   younger  youngsters  youth  youtube  zealand  zero  zone  zoom  \n",
            "0      0.0         0.0    0.0      0.0      0.0   0.0   0.0   0.0  \n",
            "1      0.0         0.0    0.0      0.0      0.0   0.0   0.0   0.0  \n",
            "2      0.0         0.0    0.0      0.0      0.0   0.0   0.0   0.0  \n",
            "3      0.0         0.0    0.0      0.0      0.0   0.0   0.0   0.0  \n",
            "4      0.0         0.0    0.0      0.0      0.0   0.0   0.0   0.0  \n",
            "\n",
            "[5 rows x 5000 columns]\n"
          ]
        }
      ],
      "source": [
        "tfidf = TfidfVectorizer(max_features=5000)  #Adjusting the number of features as needed\n",
        "X_tfidf = tfidf.fit_transform(data['cleaned_text'])\n",
        "\n",
        "#Converting to DataFrame for easier inspection\n",
        "X_tfidf_df = pd.DataFrame(X_tfidf.toarray(), columns=tfidf.get_feature_names_out())\n",
        "print(X_tfidf_df.head())\n"
      ]
    },
    {
      "cell_type": "code",
      "execution_count": null,
      "metadata": {
        "colab": {
          "base_uri": "https://localhost:8080/"
        },
        "id": "ZBliQcHAwmDM",
        "outputId": "42de4af4-57ff-44ca-a0a1-7ca04f6d9508"
      },
      "outputs": [
        {
          "name": "stdout",
          "output_type": "stream",
          "text": [
            "Training data shape: (2920, 5000)\n",
            "Testing data shape: (730, 5000)\n"
          ]
        }
      ],
      "source": [
        "from sklearn.model_selection import train_test_split\n",
        "\n",
        "#features: TF-IDF representations\n",
        "X = X_tfidf\n",
        "\n",
        "#Target: Encoded bias labels\n",
        "y = data['label_bias_encoded']\n",
        "\n",
        "#Train-test split\n",
        "X_train, X_test, y_train, y_test = train_test_split(X, y, test_size=0.2, random_state=42)\n",
        "\n",
        "print(\"Training data shape:\", X_train.shape)\n",
        "print(\"Testing data shape:\", X_test.shape)\n"
      ]
    },
    {
      "cell_type": "code",
      "execution_count": null,
      "metadata": {
        "colab": {
          "base_uri": "https://localhost:8080/"
        },
        "id": "2_uKirA9woD4",
        "outputId": "acc4f510-a3e4-4a57-992d-33a2a09b0b03"
      },
      "outputs": [
        {
          "name": "stdout",
          "output_type": "stream",
          "text": [
            "Accuracy: 0.7273972602739726\n",
            "Classification Report:\n",
            "               precision    recall  f1-score   support\n",
            "\n",
            "           0       0.71      0.71      0.71       340\n",
            "           2       0.75      0.74      0.74       388\n",
            "           3       0.00      0.00      0.00         2\n",
            "\n",
            "    accuracy                           0.73       730\n",
            "   macro avg       0.48      0.49      0.48       730\n",
            "weighted avg       0.73      0.73      0.73       730\n",
            "\n"
          ]
        },
        {
          "name": "stderr",
          "output_type": "stream",
          "text": [
            "/usr/local/lib/python3.10/dist-packages/sklearn/metrics/_classification.py:1531: UndefinedMetricWarning: Precision is ill-defined and being set to 0.0 in labels with no predicted samples. Use `zero_division` parameter to control this behavior.\n",
            "  _warn_prf(average, modifier, f\"{metric.capitalize()} is\", len(result))\n",
            "/usr/local/lib/python3.10/dist-packages/sklearn/metrics/_classification.py:1531: UndefinedMetricWarning: Precision is ill-defined and being set to 0.0 in labels with no predicted samples. Use `zero_division` parameter to control this behavior.\n",
            "  _warn_prf(average, modifier, f\"{metric.capitalize()} is\", len(result))\n",
            "/usr/local/lib/python3.10/dist-packages/sklearn/metrics/_classification.py:1531: UndefinedMetricWarning: Precision is ill-defined and being set to 0.0 in labels with no predicted samples. Use `zero_division` parameter to control this behavior.\n",
            "  _warn_prf(average, modifier, f\"{metric.capitalize()} is\", len(result))\n"
          ]
        }
      ],
      "source": [
        "from sklearn.linear_model import LogisticRegression\n",
        "from sklearn.metrics import classification_report, accuracy_score\n",
        "\n",
        "# Train the model\n",
        "model = LogisticRegression(max_iter=1000)\n",
        "model.fit(X_train, y_train)\n",
        "\n",
        "# Predict on test data\n",
        "y_pred = model.predict(X_test)\n",
        "\n",
        "# Evaluate performance\n",
        "print(\"Accuracy:\", accuracy_score(y_test, y_pred))\n",
        "print(\"Classification Report:\\n\", classification_report(y_test, y_pred))\n"
      ]
    },
    {
      "cell_type": "code",
      "execution_count": null,
      "metadata": {
        "colab": {
          "base_uri": "https://localhost:8080/",
          "height": 534
        },
        "id": "drZdO-6lwpce",
        "outputId": "0a90902c-33f0-4877-9fc5-978add603ae4"
      },
      "outputs": [
        {
          "data": {
            "image/png": "[encoded data removed]",
            "text/plain": [
              "<Figure size 1000x600 with 1 Axes>"
            ]
          },
          "metadata": {},
          "output_type": "display_data"
        }
      ],
      "source": [
        "from sklearn.ensemble import RandomForestClassifier\n",
        "import matplotlib.pyplot as plt\n",
        "\n",
        "# Train a Random Forest model\n",
        "rf_model = RandomForestClassifier(n_estimators=100, random_state=42)\n",
        "rf_model.fit(X_train, y_train)\n",
        "\n",
        "# Feature importance\n",
        "importances = rf_model.feature_importances_\n",
        "indices = np.argsort(importances)[-10:]  # Top 10 features\n",
        "\n",
        "# Plot feature importance\n",
        "plt.figure(figsize=(10, 6))\n",
        "plt.barh(range(len(indices)), importances[indices], align='center')\n",
        "plt.yticks(range(len(indices)), [tfidf.get_feature_names_out()[i] for i in indices])\n",
        "plt.xlabel(\"Feature Importance\")\n",
        "plt.title(\"Top 10 Important Features\")\n",
        "plt.show()\n"
      ]
    },
    {
      "cell_type": "code",
      "execution_count": null,
      "metadata": {
        "colab": {
          "base_uri": "https://localhost:8080/"
        },
        "id": "age2qgD9ws2s",
        "outputId": "5f533abb-eaa7-4fe9-c051-dc35eeb5ea88"
      },
      "outputs": [
        {
          "name": "stdout",
          "output_type": "stream",
          "text": [
            "label_bias_encoded\n",
            "2    1857\n",
            "0    1789\n",
            "3       3\n",
            "1       1\n",
            "Name: count, dtype: int64\n"
          ]
        }
      ],
      "source": [
        "print(data['label_bias_encoded'].value_counts())\n"
      ]
    },
    {
      "cell_type": "code",
      "execution_count": null,
      "metadata": {
        "colab": {
          "base_uri": "https://localhost:8080/"
        },
        "id": "Kcwa0Op9wy_T",
        "outputId": "1186294a-2f0d-453a-e4c4-9de8aa8355d6"
      },
      "outputs": [
        {
          "name": "stderr",
          "output_type": "stream",
          "text": [
            "/usr/local/lib/python3.10/dist-packages/sklearn/model_selection/_split.py:776: UserWarning: The least populated class in y has only 1 members, which is less than n_splits=5.\n",
            "  warnings.warn(\n"
          ]
        },
        {
          "name": "stdout",
          "output_type": "stream",
          "text": [
            "Best parameters: {'C': 1, 'solver': 'liblinear'}\n"
          ]
        }
      ],
      "source": [
        "from sklearn.model_selection import GridSearchCV\n",
        "\n",
        "param_grid = {\n",
        "    'C': [0.1, 1, 10],\n",
        "    'solver': ['liblinear', 'saga']\n",
        "}\n",
        "grid_search = GridSearchCV(LogisticRegression(max_iter=1000), param_grid, cv=5)\n",
        "grid_search.fit(X_train, y_train)\n",
        "\n",
        "print(\"Best parameters:\", grid_search.best_params_)\n",
        "best_model = grid_search.best_estimator_\n"
      ]
    },
    {
      "cell_type": "code",
      "execution_count": null,
      "metadata": {
        "id": "U8EFwkt_w3Jy"
      },
      "outputs": [],
      "source": [
        "tfidf = TfidfVectorizer(max_features=5000, ngram_range=(1, 2))\n",
        "X_tfidf = tfidf.fit_transform(data['cleaned_text'])\n"
      ]
    },
    {
      "cell_type": "code",
      "execution_count": null,
      "metadata": {
        "colab": {
          "base_uri": "https://localhost:8080/",
          "height": 449
        },
        "id": "swsDmoVCw6jE",
        "outputId": "e0c661b1-df10-4c62-91cc-fd56a3c658e0"
      },
      "outputs": [
        {
          "data": {
            "image/png": "[encoded data removed]",
            "text/plain": [
              "<Figure size 640x480 with 2 Axes>"
            ]
          },
          "metadata": {},
          "output_type": "display_data"
        }
      ],
      "source": [
        "from sklearn.metrics import confusion_matrix, ConfusionMatrixDisplay\n",
        "\n",
        "cm = confusion_matrix(y_test, y_pred)\n",
        "ConfusionMatrixDisplay(cm, display_labels=['Class 0', 'Class 2', 'Class 3']).plot(cmap='Blues')\n",
        "plt.show()\n"
      ]
    }
  ],
  "metadata": {
    "colab": {
      "provenance": []
    },
    "kernelspec": {
      "display_name": "Python 3",
      "name": "python3"
    },
    "language_info": {
      "name": "python"
    }
  },
  "nbformat": 4,
  "nbformat_minor": 0
}